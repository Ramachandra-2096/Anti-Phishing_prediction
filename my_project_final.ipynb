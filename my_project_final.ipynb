{
 "cells": [
  {
   "cell_type": "code",
   "execution_count": 1,
   "metadata": {},
   "outputs": [],
   "source": [
    "#importing libraries\n",
    "import pandas as pd\n",
    "import matplotlib.pyplot as plt \n",
    "import numpy as np\n",
    "import seaborn as sns"
   ]
  },
  {
   "cell_type": "code",
   "execution_count": 2,
   "metadata": {},
   "outputs": [
    {
     "data": {
      "text/html": [
       "<div>\n",
       "<style scoped>\n",
       "    .dataframe tbody tr th:only-of-type {\n",
       "        vertical-align: middle;\n",
       "    }\n",
       "\n",
       "    .dataframe tbody tr th {\n",
       "        vertical-align: top;\n",
       "    }\n",
       "\n",
       "    .dataframe thead th {\n",
       "        text-align: right;\n",
       "    }\n",
       "</style>\n",
       "<table border=\"1\" class=\"dataframe\">\n",
       "  <thead>\n",
       "    <tr style=\"text-align: right;\">\n",
       "      <th></th>\n",
       "      <th>id</th>\n",
       "      <th>NumDots</th>\n",
       "      <th>SubdomainLevel</th>\n",
       "      <th>PathLevel</th>\n",
       "      <th>UrlLength</th>\n",
       "      <th>NumDash</th>\n",
       "      <th>NumDashInHostname</th>\n",
       "      <th>AtSymbol</th>\n",
       "      <th>TildeSymbol</th>\n",
       "      <th>NumUnderscore</th>\n",
       "      <th>...</th>\n",
       "      <th>IframeOrFrame</th>\n",
       "      <th>MissingTitle</th>\n",
       "      <th>ImagesOnlyInForm</th>\n",
       "      <th>SubdomainLevelRT</th>\n",
       "      <th>UrlLengthRT</th>\n",
       "      <th>PctExtResourceUrlsRT</th>\n",
       "      <th>AbnormalExtFormActionR</th>\n",
       "      <th>ExtMetaScriptLinkRT</th>\n",
       "      <th>PctExtNullSelfRedirectHyperlinksRT</th>\n",
       "      <th>CLASS_LABEL</th>\n",
       "    </tr>\n",
       "  </thead>\n",
       "  <tbody>\n",
       "    <tr>\n",
       "      <th>0</th>\n",
       "      <td>1</td>\n",
       "      <td>3</td>\n",
       "      <td>1</td>\n",
       "      <td>5</td>\n",
       "      <td>72</td>\n",
       "      <td>0</td>\n",
       "      <td>0</td>\n",
       "      <td>0</td>\n",
       "      <td>0</td>\n",
       "      <td>0</td>\n",
       "      <td>...</td>\n",
       "      <td>0</td>\n",
       "      <td>0</td>\n",
       "      <td>1</td>\n",
       "      <td>1</td>\n",
       "      <td>0</td>\n",
       "      <td>1</td>\n",
       "      <td>1</td>\n",
       "      <td>-1</td>\n",
       "      <td>1</td>\n",
       "      <td>1</td>\n",
       "    </tr>\n",
       "    <tr>\n",
       "      <th>1</th>\n",
       "      <td>2</td>\n",
       "      <td>3</td>\n",
       "      <td>1</td>\n",
       "      <td>3</td>\n",
       "      <td>144</td>\n",
       "      <td>0</td>\n",
       "      <td>0</td>\n",
       "      <td>0</td>\n",
       "      <td>0</td>\n",
       "      <td>2</td>\n",
       "      <td>...</td>\n",
       "      <td>0</td>\n",
       "      <td>0</td>\n",
       "      <td>0</td>\n",
       "      <td>1</td>\n",
       "      <td>-1</td>\n",
       "      <td>1</td>\n",
       "      <td>1</td>\n",
       "      <td>1</td>\n",
       "      <td>1</td>\n",
       "      <td>1</td>\n",
       "    </tr>\n",
       "    <tr>\n",
       "      <th>2</th>\n",
       "      <td>3</td>\n",
       "      <td>3</td>\n",
       "      <td>1</td>\n",
       "      <td>2</td>\n",
       "      <td>58</td>\n",
       "      <td>0</td>\n",
       "      <td>0</td>\n",
       "      <td>0</td>\n",
       "      <td>0</td>\n",
       "      <td>0</td>\n",
       "      <td>...</td>\n",
       "      <td>0</td>\n",
       "      <td>0</td>\n",
       "      <td>0</td>\n",
       "      <td>1</td>\n",
       "      <td>0</td>\n",
       "      <td>-1</td>\n",
       "      <td>1</td>\n",
       "      <td>-1</td>\n",
       "      <td>0</td>\n",
       "      <td>1</td>\n",
       "    </tr>\n",
       "    <tr>\n",
       "      <th>3</th>\n",
       "      <td>4</td>\n",
       "      <td>3</td>\n",
       "      <td>1</td>\n",
       "      <td>6</td>\n",
       "      <td>79</td>\n",
       "      <td>1</td>\n",
       "      <td>0</td>\n",
       "      <td>0</td>\n",
       "      <td>0</td>\n",
       "      <td>0</td>\n",
       "      <td>...</td>\n",
       "      <td>0</td>\n",
       "      <td>0</td>\n",
       "      <td>0</td>\n",
       "      <td>1</td>\n",
       "      <td>-1</td>\n",
       "      <td>1</td>\n",
       "      <td>1</td>\n",
       "      <td>1</td>\n",
       "      <td>-1</td>\n",
       "      <td>1</td>\n",
       "    </tr>\n",
       "    <tr>\n",
       "      <th>4</th>\n",
       "      <td>5</td>\n",
       "      <td>3</td>\n",
       "      <td>0</td>\n",
       "      <td>4</td>\n",
       "      <td>46</td>\n",
       "      <td>0</td>\n",
       "      <td>0</td>\n",
       "      <td>0</td>\n",
       "      <td>0</td>\n",
       "      <td>0</td>\n",
       "      <td>...</td>\n",
       "      <td>1</td>\n",
       "      <td>0</td>\n",
       "      <td>0</td>\n",
       "      <td>1</td>\n",
       "      <td>1</td>\n",
       "      <td>-1</td>\n",
       "      <td>0</td>\n",
       "      <td>-1</td>\n",
       "      <td>-1</td>\n",
       "      <td>1</td>\n",
       "    </tr>\n",
       "    <tr>\n",
       "      <th>...</th>\n",
       "      <td>...</td>\n",
       "      <td>...</td>\n",
       "      <td>...</td>\n",
       "      <td>...</td>\n",
       "      <td>...</td>\n",
       "      <td>...</td>\n",
       "      <td>...</td>\n",
       "      <td>...</td>\n",
       "      <td>...</td>\n",
       "      <td>...</td>\n",
       "      <td>...</td>\n",
       "      <td>...</td>\n",
       "      <td>...</td>\n",
       "      <td>...</td>\n",
       "      <td>...</td>\n",
       "      <td>...</td>\n",
       "      <td>...</td>\n",
       "      <td>...</td>\n",
       "      <td>...</td>\n",
       "      <td>...</td>\n",
       "      <td>...</td>\n",
       "    </tr>\n",
       "    <tr>\n",
       "      <th>9995</th>\n",
       "      <td>9996</td>\n",
       "      <td>3</td>\n",
       "      <td>1</td>\n",
       "      <td>1</td>\n",
       "      <td>50</td>\n",
       "      <td>0</td>\n",
       "      <td>0</td>\n",
       "      <td>0</td>\n",
       "      <td>0</td>\n",
       "      <td>0</td>\n",
       "      <td>...</td>\n",
       "      <td>0</td>\n",
       "      <td>0</td>\n",
       "      <td>0</td>\n",
       "      <td>1</td>\n",
       "      <td>1</td>\n",
       "      <td>-1</td>\n",
       "      <td>1</td>\n",
       "      <td>0</td>\n",
       "      <td>1</td>\n",
       "      <td>0</td>\n",
       "    </tr>\n",
       "    <tr>\n",
       "      <th>9996</th>\n",
       "      <td>9997</td>\n",
       "      <td>2</td>\n",
       "      <td>1</td>\n",
       "      <td>4</td>\n",
       "      <td>59</td>\n",
       "      <td>1</td>\n",
       "      <td>0</td>\n",
       "      <td>0</td>\n",
       "      <td>0</td>\n",
       "      <td>0</td>\n",
       "      <td>...</td>\n",
       "      <td>1</td>\n",
       "      <td>0</td>\n",
       "      <td>0</td>\n",
       "      <td>1</td>\n",
       "      <td>0</td>\n",
       "      <td>0</td>\n",
       "      <td>1</td>\n",
       "      <td>0</td>\n",
       "      <td>1</td>\n",
       "      <td>0</td>\n",
       "    </tr>\n",
       "    <tr>\n",
       "      <th>9997</th>\n",
       "      <td>9998</td>\n",
       "      <td>2</td>\n",
       "      <td>1</td>\n",
       "      <td>4</td>\n",
       "      <td>57</td>\n",
       "      <td>0</td>\n",
       "      <td>0</td>\n",
       "      <td>0</td>\n",
       "      <td>0</td>\n",
       "      <td>0</td>\n",
       "      <td>...</td>\n",
       "      <td>0</td>\n",
       "      <td>0</td>\n",
       "      <td>0</td>\n",
       "      <td>1</td>\n",
       "      <td>0</td>\n",
       "      <td>1</td>\n",
       "      <td>1</td>\n",
       "      <td>0</td>\n",
       "      <td>1</td>\n",
       "      <td>0</td>\n",
       "    </tr>\n",
       "    <tr>\n",
       "      <th>9998</th>\n",
       "      <td>9999</td>\n",
       "      <td>3</td>\n",
       "      <td>1</td>\n",
       "      <td>1</td>\n",
       "      <td>49</td>\n",
       "      <td>0</td>\n",
       "      <td>0</td>\n",
       "      <td>0</td>\n",
       "      <td>0</td>\n",
       "      <td>0</td>\n",
       "      <td>...</td>\n",
       "      <td>1</td>\n",
       "      <td>0</td>\n",
       "      <td>0</td>\n",
       "      <td>1</td>\n",
       "      <td>1</td>\n",
       "      <td>0</td>\n",
       "      <td>1</td>\n",
       "      <td>0</td>\n",
       "      <td>1</td>\n",
       "      <td>0</td>\n",
       "    </tr>\n",
       "    <tr>\n",
       "      <th>9999</th>\n",
       "      <td>10000</td>\n",
       "      <td>3</td>\n",
       "      <td>1</td>\n",
       "      <td>2</td>\n",
       "      <td>52</td>\n",
       "      <td>3</td>\n",
       "      <td>0</td>\n",
       "      <td>0</td>\n",
       "      <td>0</td>\n",
       "      <td>0</td>\n",
       "      <td>...</td>\n",
       "      <td>0</td>\n",
       "      <td>0</td>\n",
       "      <td>0</td>\n",
       "      <td>1</td>\n",
       "      <td>1</td>\n",
       "      <td>1</td>\n",
       "      <td>1</td>\n",
       "      <td>1</td>\n",
       "      <td>1</td>\n",
       "      <td>0</td>\n",
       "    </tr>\n",
       "  </tbody>\n",
       "</table>\n",
       "<p>10000 rows × 50 columns</p>\n",
       "</div>"
      ],
      "text/plain": [
       "         id  NumDots  SubdomainLevel  PathLevel  UrlLength  NumDash  \\\n",
       "0         1        3               1          5         72        0   \n",
       "1         2        3               1          3        144        0   \n",
       "2         3        3               1          2         58        0   \n",
       "3         4        3               1          6         79        1   \n",
       "4         5        3               0          4         46        0   \n",
       "...     ...      ...             ...        ...        ...      ...   \n",
       "9995   9996        3               1          1         50        0   \n",
       "9996   9997        2               1          4         59        1   \n",
       "9997   9998        2               1          4         57        0   \n",
       "9998   9999        3               1          1         49        0   \n",
       "9999  10000        3               1          2         52        3   \n",
       "\n",
       "      NumDashInHostname  AtSymbol  TildeSymbol  NumUnderscore  ...  \\\n",
       "0                     0         0            0              0  ...   \n",
       "1                     0         0            0              2  ...   \n",
       "2                     0         0            0              0  ...   \n",
       "3                     0         0            0              0  ...   \n",
       "4                     0         0            0              0  ...   \n",
       "...                 ...       ...          ...            ...  ...   \n",
       "9995                  0         0            0              0  ...   \n",
       "9996                  0         0            0              0  ...   \n",
       "9997                  0         0            0              0  ...   \n",
       "9998                  0         0            0              0  ...   \n",
       "9999                  0         0            0              0  ...   \n",
       "\n",
       "      IframeOrFrame  MissingTitle  ImagesOnlyInForm  SubdomainLevelRT  \\\n",
       "0                 0             0                 1                 1   \n",
       "1                 0             0                 0                 1   \n",
       "2                 0             0                 0                 1   \n",
       "3                 0             0                 0                 1   \n",
       "4                 1             0                 0                 1   \n",
       "...             ...           ...               ...               ...   \n",
       "9995              0             0                 0                 1   \n",
       "9996              1             0                 0                 1   \n",
       "9997              0             0                 0                 1   \n",
       "9998              1             0                 0                 1   \n",
       "9999              0             0                 0                 1   \n",
       "\n",
       "      UrlLengthRT  PctExtResourceUrlsRT  AbnormalExtFormActionR  \\\n",
       "0               0                     1                       1   \n",
       "1              -1                     1                       1   \n",
       "2               0                    -1                       1   \n",
       "3              -1                     1                       1   \n",
       "4               1                    -1                       0   \n",
       "...           ...                   ...                     ...   \n",
       "9995            1                    -1                       1   \n",
       "9996            0                     0                       1   \n",
       "9997            0                     1                       1   \n",
       "9998            1                     0                       1   \n",
       "9999            1                     1                       1   \n",
       "\n",
       "      ExtMetaScriptLinkRT  PctExtNullSelfRedirectHyperlinksRT  CLASS_LABEL  \n",
       "0                      -1                                   1            1  \n",
       "1                       1                                   1            1  \n",
       "2                      -1                                   0            1  \n",
       "3                       1                                  -1            1  \n",
       "4                      -1                                  -1            1  \n",
       "...                   ...                                 ...          ...  \n",
       "9995                    0                                   1            0  \n",
       "9996                    0                                   1            0  \n",
       "9997                    0                                   1            0  \n",
       "9998                    0                                   1            0  \n",
       "9999                    1                                   1            0  \n",
       "\n",
       "[10000 rows x 50 columns]"
      ]
     },
     "execution_count": 2,
     "metadata": {},
     "output_type": "execute_result"
    }
   ],
   "source": [
    "#loading the dataset\n",
    "df=pd.read_csv(\"D:\\Python(main)\\Python\\Phishing_Legitimate_full.csv\")\n",
    "df"
   ]
  },
  {
   "attachments": {},
   "cell_type": "markdown",
   "metadata": {},
   "source": [
    "Exploratory Data Analysis"
   ]
  },
  {
   "cell_type": "code",
   "execution_count": 3,
   "metadata": {},
   "outputs": [
    {
     "data": {
      "text/plain": [
       "(10000, 50)"
      ]
     },
     "execution_count": 3,
     "metadata": {},
     "output_type": "execute_result"
    }
   ],
   "source": [
    "df.shape"
   ]
  },
  {
   "cell_type": "code",
   "execution_count": 4,
   "metadata": {},
   "outputs": [
    {
     "data": {
      "text/plain": [
       "id                                      int64\n",
       "NumDots                                 int64\n",
       "SubdomainLevel                          int64\n",
       "PathLevel                               int64\n",
       "UrlLength                               int64\n",
       "NumDash                                 int64\n",
       "NumDashInHostname                       int64\n",
       "AtSymbol                                int64\n",
       "TildeSymbol                             int64\n",
       "NumUnderscore                           int64\n",
       "NumPercent                              int64\n",
       "NumQueryComponents                      int64\n",
       "NumAmpersand                            int64\n",
       "NumHash                                 int64\n",
       "NumNumericChars                         int64\n",
       "NoHttps                                 int64\n",
       "RandomString                            int64\n",
       "IpAddress                               int64\n",
       "DomainInSubdomains                      int64\n",
       "DomainInPaths                           int64\n",
       "HttpsInHostname                         int64\n",
       "HostnameLength                          int64\n",
       "PathLength                              int64\n",
       "QueryLength                             int64\n",
       "DoubleSlashInPath                       int64\n",
       "NumSensitiveWords                       int64\n",
       "EmbeddedBrandName                       int64\n",
       "PctExtHyperlinks                      float64\n",
       "PctExtResourceUrls                    float64\n",
       "ExtFavicon                              int64\n",
       "InsecureForms                           int64\n",
       "RelativeFormAction                      int64\n",
       "ExtFormAction                           int64\n",
       "AbnormalFormAction                      int64\n",
       "PctNullSelfRedirectHyperlinks         float64\n",
       "FrequentDomainNameMismatch              int64\n",
       "FakeLinkInStatusBar                     int64\n",
       "RightClickDisabled                      int64\n",
       "PopUpWindow                             int64\n",
       "SubmitInfoToEmail                       int64\n",
       "IframeOrFrame                           int64\n",
       "MissingTitle                            int64\n",
       "ImagesOnlyInForm                        int64\n",
       "SubdomainLevelRT                        int64\n",
       "UrlLengthRT                             int64\n",
       "PctExtResourceUrlsRT                    int64\n",
       "AbnormalExtFormActionR                  int64\n",
       "ExtMetaScriptLinkRT                     int64\n",
       "PctExtNullSelfRedirectHyperlinksRT      int64\n",
       "CLASS_LABEL                             int64\n",
       "dtype: object"
      ]
     },
     "execution_count": 4,
     "metadata": {},
     "output_type": "execute_result"
    }
   ],
   "source": [
    "df.dtypes"
   ]
  },
  {
   "cell_type": "code",
   "execution_count": 5,
   "metadata": {},
   "outputs": [
    {
     "data": {
      "text/plain": [
       "Index(['id', 'NumDots', 'SubdomainLevel', 'PathLevel', 'UrlLength', 'NumDash',\n",
       "       'NumDashInHostname', 'AtSymbol', 'TildeSymbol', 'NumUnderscore',\n",
       "       'NumPercent', 'NumQueryComponents', 'NumAmpersand', 'NumHash',\n",
       "       'NumNumericChars', 'NoHttps', 'RandomString', 'IpAddress',\n",
       "       'DomainInSubdomains', 'DomainInPaths', 'HttpsInHostname',\n",
       "       'HostnameLength', 'PathLength', 'QueryLength', 'DoubleSlashInPath',\n",
       "       'NumSensitiveWords', 'EmbeddedBrandName', 'PctExtHyperlinks',\n",
       "       'PctExtResourceUrls', 'ExtFavicon', 'InsecureForms',\n",
       "       'RelativeFormAction', 'ExtFormAction', 'AbnormalFormAction',\n",
       "       'PctNullSelfRedirectHyperlinks', 'FrequentDomainNameMismatch',\n",
       "       'FakeLinkInStatusBar', 'RightClickDisabled', 'PopUpWindow',\n",
       "       'SubmitInfoToEmail', 'IframeOrFrame', 'MissingTitle',\n",
       "       'ImagesOnlyInForm', 'SubdomainLevelRT', 'UrlLengthRT',\n",
       "       'PctExtResourceUrlsRT', 'AbnormalExtFormActionR', 'ExtMetaScriptLinkRT',\n",
       "       'PctExtNullSelfRedirectHyperlinksRT', 'CLASS_LABEL'],\n",
       "      dtype='object')"
      ]
     },
     "execution_count": 5,
     "metadata": {},
     "output_type": "execute_result"
    }
   ],
   "source": [
    "df.columns"
   ]
  },
  {
   "cell_type": "code",
   "execution_count": 6,
   "metadata": {},
   "outputs": [
    {
     "data": {
      "text/html": [
       "<div>\n",
       "<style scoped>\n",
       "    .dataframe tbody tr th:only-of-type {\n",
       "        vertical-align: middle;\n",
       "    }\n",
       "\n",
       "    .dataframe tbody tr th {\n",
       "        vertical-align: top;\n",
       "    }\n",
       "\n",
       "    .dataframe thead th {\n",
       "        text-align: right;\n",
       "    }\n",
       "</style>\n",
       "<table border=\"1\" class=\"dataframe\">\n",
       "  <thead>\n",
       "    <tr style=\"text-align: right;\">\n",
       "      <th></th>\n",
       "      <th>id</th>\n",
       "      <th>NumDots</th>\n",
       "      <th>SubdomainLevel</th>\n",
       "      <th>PathLevel</th>\n",
       "      <th>UrlLength</th>\n",
       "      <th>NumDash</th>\n",
       "      <th>NumDashInHostname</th>\n",
       "      <th>AtSymbol</th>\n",
       "      <th>TildeSymbol</th>\n",
       "      <th>NumUnderscore</th>\n",
       "      <th>...</th>\n",
       "      <th>IframeOrFrame</th>\n",
       "      <th>MissingTitle</th>\n",
       "      <th>ImagesOnlyInForm</th>\n",
       "      <th>SubdomainLevelRT</th>\n",
       "      <th>UrlLengthRT</th>\n",
       "      <th>PctExtResourceUrlsRT</th>\n",
       "      <th>AbnormalExtFormActionR</th>\n",
       "      <th>ExtMetaScriptLinkRT</th>\n",
       "      <th>PctExtNullSelfRedirectHyperlinksRT</th>\n",
       "      <th>CLASS_LABEL</th>\n",
       "    </tr>\n",
       "  </thead>\n",
       "  <tbody>\n",
       "    <tr>\n",
       "      <th>count</th>\n",
       "      <td>10000.00000</td>\n",
       "      <td>10000.000000</td>\n",
       "      <td>10000.000000</td>\n",
       "      <td>10000.000000</td>\n",
       "      <td>10000.000000</td>\n",
       "      <td>10000.000000</td>\n",
       "      <td>10000.000000</td>\n",
       "      <td>10000.000000</td>\n",
       "      <td>10000.000000</td>\n",
       "      <td>10000.00000</td>\n",
       "      <td>...</td>\n",
       "      <td>10000.000000</td>\n",
       "      <td>10000.00000</td>\n",
       "      <td>10000.000000</td>\n",
       "      <td>10000.000000</td>\n",
       "      <td>10000.000000</td>\n",
       "      <td>10000.000000</td>\n",
       "      <td>10000.000000</td>\n",
       "      <td>10000.000000</td>\n",
       "      <td>10000.000000</td>\n",
       "      <td>10000.000000</td>\n",
       "    </tr>\n",
       "    <tr>\n",
       "      <th>mean</th>\n",
       "      <td>5000.50000</td>\n",
       "      <td>2.445100</td>\n",
       "      <td>0.586800</td>\n",
       "      <td>3.300300</td>\n",
       "      <td>70.264100</td>\n",
       "      <td>1.818000</td>\n",
       "      <td>0.138900</td>\n",
       "      <td>0.000300</td>\n",
       "      <td>0.013100</td>\n",
       "      <td>0.32320</td>\n",
       "      <td>...</td>\n",
       "      <td>0.339600</td>\n",
       "      <td>0.03220</td>\n",
       "      <td>0.030400</td>\n",
       "      <td>0.956600</td>\n",
       "      <td>0.020200</td>\n",
       "      <td>0.353300</td>\n",
       "      <td>0.793200</td>\n",
       "      <td>0.173400</td>\n",
       "      <td>0.314100</td>\n",
       "      <td>0.500000</td>\n",
       "    </tr>\n",
       "    <tr>\n",
       "      <th>std</th>\n",
       "      <td>2886.89568</td>\n",
       "      <td>1.346836</td>\n",
       "      <td>0.751214</td>\n",
       "      <td>1.863241</td>\n",
       "      <td>33.369877</td>\n",
       "      <td>3.106258</td>\n",
       "      <td>0.545744</td>\n",
       "      <td>0.017319</td>\n",
       "      <td>0.113709</td>\n",
       "      <td>1.11466</td>\n",
       "      <td>...</td>\n",
       "      <td>0.473597</td>\n",
       "      <td>0.17654</td>\n",
       "      <td>0.171694</td>\n",
       "      <td>0.248037</td>\n",
       "      <td>0.820036</td>\n",
       "      <td>0.888908</td>\n",
       "      <td>0.521019</td>\n",
       "      <td>0.755771</td>\n",
       "      <td>0.897843</td>\n",
       "      <td>0.500025</td>\n",
       "    </tr>\n",
       "    <tr>\n",
       "      <th>min</th>\n",
       "      <td>1.00000</td>\n",
       "      <td>1.000000</td>\n",
       "      <td>0.000000</td>\n",
       "      <td>0.000000</td>\n",
       "      <td>12.000000</td>\n",
       "      <td>0.000000</td>\n",
       "      <td>0.000000</td>\n",
       "      <td>0.000000</td>\n",
       "      <td>0.000000</td>\n",
       "      <td>0.00000</td>\n",
       "      <td>...</td>\n",
       "      <td>0.000000</td>\n",
       "      <td>0.00000</td>\n",
       "      <td>0.000000</td>\n",
       "      <td>-1.000000</td>\n",
       "      <td>-1.000000</td>\n",
       "      <td>-1.000000</td>\n",
       "      <td>-1.000000</td>\n",
       "      <td>-1.000000</td>\n",
       "      <td>-1.000000</td>\n",
       "      <td>0.000000</td>\n",
       "    </tr>\n",
       "    <tr>\n",
       "      <th>25%</th>\n",
       "      <td>2500.75000</td>\n",
       "      <td>2.000000</td>\n",
       "      <td>0.000000</td>\n",
       "      <td>2.000000</td>\n",
       "      <td>48.000000</td>\n",
       "      <td>0.000000</td>\n",
       "      <td>0.000000</td>\n",
       "      <td>0.000000</td>\n",
       "      <td>0.000000</td>\n",
       "      <td>0.00000</td>\n",
       "      <td>...</td>\n",
       "      <td>0.000000</td>\n",
       "      <td>0.00000</td>\n",
       "      <td>0.000000</td>\n",
       "      <td>1.000000</td>\n",
       "      <td>-1.000000</td>\n",
       "      <td>-1.000000</td>\n",
       "      <td>1.000000</td>\n",
       "      <td>0.000000</td>\n",
       "      <td>-1.000000</td>\n",
       "      <td>0.000000</td>\n",
       "    </tr>\n",
       "    <tr>\n",
       "      <th>50%</th>\n",
       "      <td>5000.50000</td>\n",
       "      <td>2.000000</td>\n",
       "      <td>1.000000</td>\n",
       "      <td>3.000000</td>\n",
       "      <td>62.000000</td>\n",
       "      <td>0.000000</td>\n",
       "      <td>0.000000</td>\n",
       "      <td>0.000000</td>\n",
       "      <td>0.000000</td>\n",
       "      <td>0.00000</td>\n",
       "      <td>...</td>\n",
       "      <td>0.000000</td>\n",
       "      <td>0.00000</td>\n",
       "      <td>0.000000</td>\n",
       "      <td>1.000000</td>\n",
       "      <td>0.000000</td>\n",
       "      <td>1.000000</td>\n",
       "      <td>1.000000</td>\n",
       "      <td>0.000000</td>\n",
       "      <td>1.000000</td>\n",
       "      <td>0.500000</td>\n",
       "    </tr>\n",
       "    <tr>\n",
       "      <th>75%</th>\n",
       "      <td>7500.25000</td>\n",
       "      <td>3.000000</td>\n",
       "      <td>1.000000</td>\n",
       "      <td>4.000000</td>\n",
       "      <td>84.000000</td>\n",
       "      <td>2.000000</td>\n",
       "      <td>0.000000</td>\n",
       "      <td>0.000000</td>\n",
       "      <td>0.000000</td>\n",
       "      <td>0.00000</td>\n",
       "      <td>...</td>\n",
       "      <td>1.000000</td>\n",
       "      <td>0.00000</td>\n",
       "      <td>0.000000</td>\n",
       "      <td>1.000000</td>\n",
       "      <td>1.000000</td>\n",
       "      <td>1.000000</td>\n",
       "      <td>1.000000</td>\n",
       "      <td>1.000000</td>\n",
       "      <td>1.000000</td>\n",
       "      <td>1.000000</td>\n",
       "    </tr>\n",
       "    <tr>\n",
       "      <th>max</th>\n",
       "      <td>10000.00000</td>\n",
       "      <td>21.000000</td>\n",
       "      <td>14.000000</td>\n",
       "      <td>18.000000</td>\n",
       "      <td>253.000000</td>\n",
       "      <td>55.000000</td>\n",
       "      <td>9.000000</td>\n",
       "      <td>1.000000</td>\n",
       "      <td>1.000000</td>\n",
       "      <td>18.00000</td>\n",
       "      <td>...</td>\n",
       "      <td>1.000000</td>\n",
       "      <td>1.00000</td>\n",
       "      <td>1.000000</td>\n",
       "      <td>1.000000</td>\n",
       "      <td>1.000000</td>\n",
       "      <td>1.000000</td>\n",
       "      <td>1.000000</td>\n",
       "      <td>1.000000</td>\n",
       "      <td>1.000000</td>\n",
       "      <td>1.000000</td>\n",
       "    </tr>\n",
       "  </tbody>\n",
       "</table>\n",
       "<p>8 rows × 50 columns</p>\n",
       "</div>"
      ],
      "text/plain": [
       "                id       NumDots  SubdomainLevel     PathLevel     UrlLength  \\\n",
       "count  10000.00000  10000.000000    10000.000000  10000.000000  10000.000000   \n",
       "mean    5000.50000      2.445100        0.586800      3.300300     70.264100   \n",
       "std     2886.89568      1.346836        0.751214      1.863241     33.369877   \n",
       "min        1.00000      1.000000        0.000000      0.000000     12.000000   \n",
       "25%     2500.75000      2.000000        0.000000      2.000000     48.000000   \n",
       "50%     5000.50000      2.000000        1.000000      3.000000     62.000000   \n",
       "75%     7500.25000      3.000000        1.000000      4.000000     84.000000   \n",
       "max    10000.00000     21.000000       14.000000     18.000000    253.000000   \n",
       "\n",
       "            NumDash  NumDashInHostname      AtSymbol   TildeSymbol  \\\n",
       "count  10000.000000       10000.000000  10000.000000  10000.000000   \n",
       "mean       1.818000           0.138900      0.000300      0.013100   \n",
       "std        3.106258           0.545744      0.017319      0.113709   \n",
       "min        0.000000           0.000000      0.000000      0.000000   \n",
       "25%        0.000000           0.000000      0.000000      0.000000   \n",
       "50%        0.000000           0.000000      0.000000      0.000000   \n",
       "75%        2.000000           0.000000      0.000000      0.000000   \n",
       "max       55.000000           9.000000      1.000000      1.000000   \n",
       "\n",
       "       NumUnderscore  ...  IframeOrFrame  MissingTitle  ImagesOnlyInForm  \\\n",
       "count    10000.00000  ...   10000.000000   10000.00000      10000.000000   \n",
       "mean         0.32320  ...       0.339600       0.03220          0.030400   \n",
       "std          1.11466  ...       0.473597       0.17654          0.171694   \n",
       "min          0.00000  ...       0.000000       0.00000          0.000000   \n",
       "25%          0.00000  ...       0.000000       0.00000          0.000000   \n",
       "50%          0.00000  ...       0.000000       0.00000          0.000000   \n",
       "75%          0.00000  ...       1.000000       0.00000          0.000000   \n",
       "max         18.00000  ...       1.000000       1.00000          1.000000   \n",
       "\n",
       "       SubdomainLevelRT   UrlLengthRT  PctExtResourceUrlsRT  \\\n",
       "count      10000.000000  10000.000000          10000.000000   \n",
       "mean           0.956600      0.020200              0.353300   \n",
       "std            0.248037      0.820036              0.888908   \n",
       "min           -1.000000     -1.000000             -1.000000   \n",
       "25%            1.000000     -1.000000             -1.000000   \n",
       "50%            1.000000      0.000000              1.000000   \n",
       "75%            1.000000      1.000000              1.000000   \n",
       "max            1.000000      1.000000              1.000000   \n",
       "\n",
       "       AbnormalExtFormActionR  ExtMetaScriptLinkRT  \\\n",
       "count            10000.000000         10000.000000   \n",
       "mean                 0.793200             0.173400   \n",
       "std                  0.521019             0.755771   \n",
       "min                 -1.000000            -1.000000   \n",
       "25%                  1.000000             0.000000   \n",
       "50%                  1.000000             0.000000   \n",
       "75%                  1.000000             1.000000   \n",
       "max                  1.000000             1.000000   \n",
       "\n",
       "       PctExtNullSelfRedirectHyperlinksRT   CLASS_LABEL  \n",
       "count                        10000.000000  10000.000000  \n",
       "mean                             0.314100      0.500000  \n",
       "std                              0.897843      0.500025  \n",
       "min                             -1.000000      0.000000  \n",
       "25%                             -1.000000      0.000000  \n",
       "50%                              1.000000      0.500000  \n",
       "75%                              1.000000      1.000000  \n",
       "max                              1.000000      1.000000  \n",
       "\n",
       "[8 rows x 50 columns]"
      ]
     },
     "execution_count": 6,
     "metadata": {},
     "output_type": "execute_result"
    }
   ],
   "source": [
    "df.describe()"
   ]
  },
  {
   "cell_type": "code",
   "execution_count": 7,
   "metadata": {},
   "outputs": [
    {
     "data": {
      "text/plain": [
       "id                                    0\n",
       "NumDots                               0\n",
       "SubdomainLevel                        0\n",
       "PathLevel                             0\n",
       "UrlLength                             0\n",
       "NumDash                               0\n",
       "NumDashInHostname                     0\n",
       "AtSymbol                              0\n",
       "TildeSymbol                           0\n",
       "NumUnderscore                         0\n",
       "NumPercent                            0\n",
       "NumQueryComponents                    0\n",
       "NumAmpersand                          0\n",
       "NumHash                               0\n",
       "NumNumericChars                       0\n",
       "NoHttps                               0\n",
       "RandomString                          0\n",
       "IpAddress                             0\n",
       "DomainInSubdomains                    0\n",
       "DomainInPaths                         0\n",
       "HttpsInHostname                       0\n",
       "HostnameLength                        0\n",
       "PathLength                            0\n",
       "QueryLength                           0\n",
       "DoubleSlashInPath                     0\n",
       "NumSensitiveWords                     0\n",
       "EmbeddedBrandName                     0\n",
       "PctExtHyperlinks                      0\n",
       "PctExtResourceUrls                    0\n",
       "ExtFavicon                            0\n",
       "InsecureForms                         0\n",
       "RelativeFormAction                    0\n",
       "ExtFormAction                         0\n",
       "AbnormalFormAction                    0\n",
       "PctNullSelfRedirectHyperlinks         0\n",
       "FrequentDomainNameMismatch            0\n",
       "FakeLinkInStatusBar                   0\n",
       "RightClickDisabled                    0\n",
       "PopUpWindow                           0\n",
       "SubmitInfoToEmail                     0\n",
       "IframeOrFrame                         0\n",
       "MissingTitle                          0\n",
       "ImagesOnlyInForm                      0\n",
       "SubdomainLevelRT                      0\n",
       "UrlLengthRT                           0\n",
       "PctExtResourceUrlsRT                  0\n",
       "AbnormalExtFormActionR                0\n",
       "ExtMetaScriptLinkRT                   0\n",
       "PctExtNullSelfRedirectHyperlinksRT    0\n",
       "CLASS_LABEL                           0\n",
       "dtype: int64"
      ]
     },
     "execution_count": 7,
     "metadata": {},
     "output_type": "execute_result"
    }
   ],
   "source": [
    "df.isnull().sum()"
   ]
  },
  {
   "cell_type": "code",
   "execution_count": 8,
   "metadata": {},
   "outputs": [
    {
     "data": {
      "text/plain": [
       "<AxesSubplot:xlabel='CLASS_LABEL', ylabel='count'>"
      ]
     },
     "execution_count": 8,
     "metadata": {},
     "output_type": "execute_result"
    },
    {
     "data": {
      "image/png": "[encoded data removed]",
      "text/plain": [
       "<Figure size 640x480 with 1 Axes>"
      ]
     },
     "metadata": {},
     "output_type": "display_data"
    }
   ],
   "source": [
    "\n",
    "sns.countplot(x='CLASS_LABEL',data=df)"
   ]
  },
  {
   "attachments": {},
   "cell_type": "markdown",
   "metadata": {},
   "source": [
    "# Splitting data into training and testing dataset"
   ]
  },
  {
   "cell_type": "code",
   "execution_count": 9,
   "metadata": {},
   "outputs": [],
   "source": [
    "x=df.drop(columns=['id','CLASS_LABEL'],axis=1)\n",
    "y=df['CLASS_LABEL']"
   ]
  },
  {
   "cell_type": "code",
   "execution_count": 10,
   "metadata": {},
   "outputs": [],
   "source": [
    "from sklearn.model_selection import train_test_split\n",
    "x_train,x_test,y_train,y_test=train_test_split(x,y,test_size=0.2,random_state=42)"
   ]
  },
  {
   "cell_type": "code",
   "execution_count": 11,
   "metadata": {},
   "outputs": [
    {
     "name": "stdout",
     "output_type": "stream",
     "text": [
      "(8000, 48) (2000, 48)\n"
     ]
    }
   ],
   "source": [
    "print(x_train.shape,x_test.shape)"
   ]
  },
  {
   "attachments": {},
   "cell_type": "markdown",
   "metadata": {},
   "source": [
    "## Random forest classification"
   ]
  },
  {
   "cell_type": "code",
   "execution_count": 12,
   "metadata": {},
   "outputs": [],
   "source": [
    "from sklearn.preprocessing import StandardScaler\n",
    "scaler_value=StandardScaler()\n",
    "x_train=scaler_value.fit_transform(x_train)\n",
    "x_test=scaler_value.transform(x_test)"
   ]
  },
  {
   "cell_type": "code",
   "execution_count": 13,
   "metadata": {},
   "outputs": [
    {
     "data": {
      "text/plain": [
       "RandomForestClassifier(random_state=0)"
      ]
     },
     "execution_count": 13,
     "metadata": {},
     "output_type": "execute_result"
    }
   ],
   "source": [
    "from sklearn.ensemble import RandomForestClassifier\n",
    "classify=RandomForestClassifier(random_state = 0)\n",
    "classify.fit(x_train, y_train)"
   ]
  },
  {
   "cell_type": "code",
   "execution_count": 14,
   "metadata": {},
   "outputs": [],
   "source": [
    "y_prediction=classify.predict(x_test)\n",
    "y_prediction_training=classify.predict(x_train)"
   ]
  },
  {
   "cell_type": "code",
   "execution_count": 15,
   "metadata": {},
   "outputs": [],
   "source": [
    "from sklearn.metrics import confusion_matrix,mean_absolute_error,mean_squared_error,recall_score,precision_score,accuracy_score"
   ]
  },
  {
   "cell_type": "code",
   "execution_count": 16,
   "metadata": {},
   "outputs": [
    {
     "name": "stdout",
     "output_type": "stream",
     "text": [
      "1.0\n",
      "\n",
      "\n",
      "[[4012    0]\n",
      " [   0 3988]]\n"
     ]
    }
   ],
   "source": [
    "print(accuracy_score(y_train,y_prediction_training))\n",
    "print()\n",
    "print()\n",
    "print(confusion_matrix(y_train,y_prediction_training))"
   ]
  },
  {
   "cell_type": "code",
   "execution_count": 17,
   "metadata": {},
   "outputs": [
    {
     "name": "stdout",
     "output_type": "stream",
     "text": [
      "Recall is 0.9822134387351779\n",
      "Precision is 0.9851337958374629\n",
      "Mean Absolute Error : 0.0165\n",
      "Mean Squared Error : 0.0165\n",
      "Root Mean Squared Error : 0.1284523257866513\n",
      "Accuracy : 0.9835\n"
     ]
    }
   ],
   "source": [
    "confusion_matrix(y_test,y_prediction)\n",
    "print(\"Recall is\",recall_score(y_test,y_prediction))\n",
    "print(\"Precision is\",precision_score(y_test,y_prediction))\n",
    "print(\"Mean Absolute Error :\",mean_absolute_error(y_test,y_prediction))\n",
    "print(\"Mean Squared Error :\",mean_squared_error(y_test,y_prediction))\n",
    "print(\"Root Mean Squared Error :\",mean_squared_error(y_test,y_prediction,squared=False))\n",
    "print(\"Accuracy :\",accuracy_score(y_test,y_prediction))\n"
   ]
  },
  {
   "cell_type": "code",
   "execution_count": 18,
   "metadata": {},
   "outputs": [
    {
     "name": "stdout",
     "output_type": "stream",
     "text": [
      "              precision    recall  f1-score   support\n",
      "\n",
      "           0       0.98      0.98      0.98       988\n",
      "           1       0.99      0.98      0.98      1012\n",
      "\n",
      "    accuracy                           0.98      2000\n",
      "   macro avg       0.98      0.98      0.98      2000\n",
      "weighted avg       0.98      0.98      0.98      2000\n",
      "\n"
     ]
    }
   ],
   "source": [
    "from sklearn.metrics import classification_report\n",
    "print(classification_report(y_test, y_prediction))"
   ]
  },
  {
   "attachments": {},
   "cell_type": "markdown",
   "metadata": {},
   "source": [
    "## Logistic Regression"
   ]
  },
  {
   "cell_type": "code",
   "execution_count": 19,
   "metadata": {},
   "outputs": [
    {
     "data": {
      "text/plain": [
       "LogisticRegression(random_state=0)"
      ]
     },
     "execution_count": 19,
     "metadata": {},
     "output_type": "execute_result"
    }
   ],
   "source": [
    "from sklearn.linear_model import LogisticRegression\n",
    "clf= LogisticRegression(random_state = 0)\n",
    "clf.fit(x_train, y_train)"
   ]
  },
  {
   "cell_type": "code",
   "execution_count": 20,
   "metadata": {},
   "outputs": [],
   "source": [
    "y_prediction2=clf.predict(x_test)\n",
    "y_prediction_train2=clf.predict(x_train)"
   ]
  },
  {
   "cell_type": "code",
   "execution_count": 21,
   "metadata": {},
   "outputs": [
    {
     "data": {
      "text/plain": [
       "array([[918,  70],\n",
       "       [ 53, 959]], dtype=int64)"
      ]
     },
     "execution_count": 21,
     "metadata": {},
     "output_type": "execute_result"
    }
   ],
   "source": [
    "confusion_matrix(y_test,y_prediction2)"
   ]
  },
  {
   "cell_type": "code",
   "execution_count": 22,
   "metadata": {},
   "outputs": [
    {
     "data": {
      "text/plain": [
       "array([[3771,  241],\n",
       "       [ 180, 3808]], dtype=int64)"
      ]
     },
     "execution_count": 22,
     "metadata": {},
     "output_type": "execute_result"
    }
   ],
   "source": [
    "#Training\n",
    "accuracy_score(y_train,y_prediction_train2)\n",
    "confusion_matrix(y_train,y_prediction_train2)"
   ]
  },
  {
   "cell_type": "code",
   "execution_count": 23,
   "metadata": {},
   "outputs": [
    {
     "name": "stdout",
     "output_type": "stream",
     "text": [
      "Accurecy Training :  0.947375\n"
     ]
    }
   ],
   "source": [
    "print(\"Accurecy Training : \",accuracy_score(y_train,y_prediction_train2))"
   ]
  },
  {
   "cell_type": "code",
   "execution_count": 24,
   "metadata": {},
   "outputs": [
    {
     "name": "stdout",
     "output_type": "stream",
     "text": [
      "Recall is 0.9476284584980237\n",
      "Precision is 0.9319727891156463\n",
      "Mean Absolute Error : 0.0615\n",
      "Mean Squared Error : 0.0615\n",
      "Root Mean Squared Error : 0.24799193535274489\n",
      "Accurecy Testing:  0.9385\n"
     ]
    }
   ],
   "source": [
    "#Testing\n",
    "print(\"Recall is\",recall_score(y_test,y_prediction2))\n",
    "print(\"Precision is\",precision_score(y_test,y_prediction2))\n",
    "print(\"Mean Absolute Error :\",mean_absolute_error(y_test,y_prediction2))\n",
    "print(\"Mean Squared Error :\",mean_squared_error(y_test,y_prediction2))\n",
    "print(\"Root Mean Squared Error :\",mean_squared_error(y_test,y_prediction2,squared=False))\n",
    "print(\"Accurecy Testing: \",accuracy_score(y_test,y_prediction2))"
   ]
  },
  {
   "cell_type": "code",
   "execution_count": 25,
   "metadata": {},
   "outputs": [
    {
     "name": "stdout",
     "output_type": "stream",
     "text": [
      "              precision    recall  f1-score   support\n",
      "\n",
      "           0       0.95      0.93      0.94       988\n",
      "           1       0.93      0.95      0.94      1012\n",
      "\n",
      "    accuracy                           0.94      2000\n",
      "   macro avg       0.94      0.94      0.94      2000\n",
      "weighted avg       0.94      0.94      0.94      2000\n",
      "\n"
     ]
    }
   ],
   "source": [
    "print(classification_report(y_test, y_prediction2))"
   ]
  },
  {
   "cell_type": "code",
   "execution_count": 26,
   "metadata": {},
   "outputs": [
    {
     "data": {
      "text/plain": [
       "array([[3771,  241],\n",
       "       [ 180, 3808]], dtype=int64)"
      ]
     },
     "execution_count": 26,
     "metadata": {},
     "output_type": "execute_result"
    }
   ],
   "source": [
    "confusion_matrix(y_train,y_prediction_train2)"
   ]
  }
 ],
 "metadata": {
  "kernelspec": {
   "display_name": "base",
   "language": "python",
   "name": "python3"
  },
  "language_info": {
   "codemirror_mode": {
    "name": "ipython",
    "version": 3
   },
   "file_extension": ".py",
   "mimetype": "text/x-python",
   "name": "python",
   "nbconvert_exporter": "python",
   "pygments_lexer": "ipython3",
   "version": "3.9.13"
  },
  "orig_nbformat": 4
 },
 "nbformat": 4,
 "nbformat_minor": 2
}
